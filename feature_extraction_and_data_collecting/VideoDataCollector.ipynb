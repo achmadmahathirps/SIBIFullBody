{
 "cells": [
  {
   "cell_type": "markdown",
   "id": "0428ef30-db60-4f34-9d14-817e56baffdd",
   "metadata": {},
   "source": [
    "# **Program Untuk Pengambilan Data Video**"
   ]
  },
  {
   "cell_type": "markdown",
   "id": "93ac92fd-0ace-4057-abab-f215ecc49d71",
   "metadata": {},
   "source": [
    "Program berbasis jupyter ini dibuat untuk menjalankan proses ekstraksi fitur data skeletal numerik dari Mediapipe yang diperoleh dari dataset video."
   ]
  },
  {
   "cell_type": "markdown",
   "id": "ad124d94-ae7b-486a-a152-aeae04963cc2",
   "metadata": {},
   "source": [
    "---"
   ]
  },
  {
   "cell_type": "markdown",
   "id": "7d0d50be",
   "metadata": {},
   "source": [
    "## Proses _import library_"
   ]
  },
  {
   "cell_type": "code",
   "id": "7659834c-5646-477d-ae8b-89dc57c4b340",
   "metadata": {
    "ExecuteTime": {
     "end_time": "2025-06-23T02:18:49.721869Z",
     "start_time": "2025-06-23T02:18:49.715333Z"
    }
   },
   "source": [
    "import cv2 as opencv\n",
    "import numpy\n",
    "import pandas\n",
    "import os\n",
    "from pathlib import Path\n",
    "import mediapipe\n",
    "from mediapipe.framework.formats import landmark_pb2"
   ],
   "outputs": [],
   "execution_count": 13
  },
  {
   "cell_type": "markdown",
   "id": "3e2eaafa-2807-4dad-92e3-eeb28753ae6b",
   "metadata": {},
   "source": [
    "## Pengaturan Mediapipe Holistic"
   ]
  },
  {
   "cell_type": "code",
   "id": "a3b0a94f-7695-4bdc-a7af-ff706e0fe4c6",
   "metadata": {
    "ExecuteTime": {
     "end_time": "2025-06-23T02:18:49.816279Z",
     "start_time": "2025-06-23T02:18:49.754886Z"
    }
   },
   "source": [
    "mediapipe_holistic = mediapipe.solutions.holistic\n",
    "holistic = mediapipe_holistic.Holistic(\n",
    "    static_image_mode=False,\n",
    "    model_complexity=1,\n",
    "    smooth_landmarks=True,\n",
    "    enable_segmentation=False,\n",
    "    refine_face_landmarks=False,\n",
    "    min_detection_confidence=0.25,\n",
    "    min_tracking_confidence=0.25,\n",
    ")\n",
    "\n",
    "# Initialize mediapipe detection settings\n",
    "mediapipe_holistic = mediapipe.solutions.holistic\n",
    "mediapipe_drawing = mediapipe.solutions.drawing_utils\n",
    "mediapipe_drawing_styles = mediapipe.solutions.drawing_styles"
   ],
   "outputs": [],
   "execution_count": 14
  },
  {
   "cell_type": "markdown",
   "id": "1b6dcedb-7a76-45a3-8686-77ec8f1b2c73",
   "metadata": {},
   "source": [
    "## Inisialisasi _function_"
   ]
  },
  {
   "cell_type": "markdown",
   "id": "f1bdb30d-104d-4099-9789-5d77a381b4bc",
   "metadata": {},
   "source": "### _Function_ penghitung jarak _euclidean_ (Penentu jarak antara bahu kanan dan bahu kiri)"
  },
  {
   "cell_type": "code",
   "id": "54670aed-633e-400f-b61d-212af6b10bda",
   "metadata": {
    "ExecuteTime": {
     "end_time": "2025-06-23T02:18:49.862520Z",
     "start_time": "2025-06-23T02:18:49.856005Z"
    }
   },
   "source": [
    "def euclidean_distance(pointA, pointB):\n",
    "    return ((pointA.x - pointB.x) ** 2 + (pointA.y - pointB.y) ** 2) ** 0.5"
   ],
   "outputs": [],
   "execution_count": 15
  },
  {
   "cell_type": "markdown",
   "id": "30c6b330",
   "metadata": {},
   "source": [
    "### _Function_ normalisasi landmark"
   ]
  },
  {
   "cell_type": "code",
   "id": "850752ca",
   "metadata": {
    "ExecuteTime": {
     "end_time": "2025-06-23T02:18:49.974332Z",
     "start_time": "2025-06-23T02:18:49.961847Z"
    }
   },
   "source": [
    "def normalize_landmarks(landmarks, shoulder_center_point, shoulder_width):\n",
    "    if not landmarks or shoulder_width == 0:\n",
    "        return [(0, 0)] * len(landmarks)\n",
    "    return [\n",
    "        ((landmark_point.x - shoulder_center_point[0]) / shoulder_width,\n",
    "         (landmark_point.y - shoulder_center_point[1]) / shoulder_width\n",
    "        ) for landmark_point in landmarks\n",
    "    ]"
   ],
   "outputs": [],
   "execution_count": 16
  },
  {
   "cell_type": "markdown",
   "id": "27c20e83",
   "metadata": {},
   "source": [
    "### _Function_ ekstraksi fitur _landmark_ dari frame melalui Mediapipe"
   ]
  },
  {
   "cell_type": "code",
   "id": "4a3daaf5",
   "metadata": {
    "ExecuteTime": {
     "end_time": "2025-06-23T02:18:50.098816Z",
     "start_time": "2025-06-23T02:18:50.071821Z"
    }
   },
   "source": [
    "def extract_landmarks_from_frame(frame, video_path):\n",
    "    frame_rgb = opencv.cvtColor(frame, opencv.COLOR_BGR2RGB)\n",
    "    frame_rgb.flags.writeable = False\n",
    "    detection_results = holistic.process(frame_rgb)\n",
    "    frame_rgb.flags.writeable = True\n",
    "\n",
    "    output_frame = opencv.cvtColor(frame_rgb, opencv.COLOR_RGB2BGR)\n",
    "\n",
    "    if not detection_results.pose_landmarks:\n",
    "        return None\n",
    "\n",
    "    pose_landmark_1_to_16 = detection_results.pose_landmarks.landmark[:17]\n",
    "    left_shoulder = detection_results.pose_landmarks.landmark[mediapipe_holistic.PoseLandmark.LEFT_SHOULDER]\n",
    "    right_shoulder = detection_results.pose_landmarks.landmark[mediapipe_holistic.PoseLandmark.RIGHT_SHOULDER]\n",
    "    \n",
    "    shoulder_center_point = (\n",
    "        (left_shoulder.x + right_shoulder.x) / 2,\n",
    "        (left_shoulder.y + right_shoulder.y) / 2\n",
    "    )\n",
    "    \n",
    "    shoulder_width = euclidean_distance(left_shoulder, right_shoulder)\n",
    "\n",
    "    normalized_custom_pose = normalize_landmarks(\n",
    "        pose_landmark_1_to_16, \n",
    "        shoulder_center_point, \n",
    "        shoulder_width\n",
    "    )\n",
    "\n",
    "    normalized_right_hand = normalize_landmarks(\n",
    "        detection_results.right_hand_landmarks.landmark, \n",
    "        shoulder_center_point, \n",
    "        shoulder_width\n",
    "    ) if detection_results.right_hand_landmarks else [(0, 0)] * 21\n",
    "\n",
    "    normalized_left_hand = normalize_landmarks(\n",
    "        detection_results.left_hand_landmarks.landmark,\n",
    "        shoulder_center_point,\n",
    "        shoulder_width\n",
    "    ) if detection_results.left_hand_landmarks else [(0, 0)] * 21\n",
    "\n",
    "    extracted_frame_landmarks = []\n",
    "    for landmark_x, landmark_y in normalized_custom_pose + normalized_right_hand + normalized_left_hand:\n",
    "        extracted_frame_landmarks.extend([landmark_x, landmark_y])\n",
    "\n",
    "    filtered_pose = landmark_pb2.NormalizedLandmarkList(\n",
    "        landmark = [detection_results.pose_landmarks.landmark[i] for i in range(17)]\n",
    "    )\n",
    "\n",
    "    filtered_connections = [\n",
    "        connection for connection in mediapipe_holistic.POSE_CONNECTIONS if connection[0] < 17 and connection[1] < 17\n",
    "    ]\n",
    "\n",
    "    # === Draw landmarks directly on the frame to return ===\n",
    "    mediapipe_drawing.draw_landmarks(\n",
    "        output_frame,\n",
    "        filtered_pose,\n",
    "        filtered_connections,\n",
    "        landmark_drawing_spec=mediapipe_drawing_styles.get_default_pose_landmarks_style()\n",
    "    )\n",
    "    if detection_results.right_hand_landmarks:\n",
    "        mediapipe_drawing.draw_landmarks(\n",
    "            output_frame,\n",
    "            detection_results.right_hand_landmarks,\n",
    "            mediapipe_holistic.HAND_CONNECTIONS,\n",
    "            landmark_drawing_spec=mediapipe_drawing_styles.get_default_hand_landmarks_style()\n",
    "        )\n",
    "    if detection_results.left_hand_landmarks:\n",
    "        mediapipe_drawing.draw_landmarks(\n",
    "            output_frame,\n",
    "            detection_results.left_hand_landmarks,\n",
    "            mediapipe_holistic.HAND_CONNECTIONS,\n",
    "            landmark_drawing_spec=mediapipe_drawing_styles.get_default_hand_landmarks_style()\n",
    "        )\n",
    "    \n",
    "    opencv.putText(\n",
    "        output_frame,\n",
    "        f'Name : {video_path}',\n",
    "        (10, 30),\n",
    "        opencv.FONT_HERSHEY_SIMPLEX,\n",
    "        0.75,\n",
    "        (255,255,255),\n",
    "        2,\n",
    "        opencv.LINE_AA,\n",
    "    )\n",
    "\n",
    "    return extracted_frame_landmarks, output_frame"
   ],
   "outputs": [],
   "execution_count": 17
  },
  {
   "cell_type": "markdown",
   "id": "ab3235b6",
   "metadata": {},
   "source": [
    "## Proses Utama"
   ]
  },
  {
   "cell_type": "markdown",
   "id": "2aac8736",
   "metadata": {},
   "source": [
    "### Menentukan lokasi _folder input_ dan _folder output_"
   ]
  },
  {
   "cell_type": "code",
   "id": "862ebcc2",
   "metadata": {
    "ExecuteTime": {
     "end_time": "2025-06-23T02:19:20.176234Z",
     "start_time": "2025-06-23T02:19:20.166191Z"
    }
   },
   "source": [
    "input_folder = Path(\"input_videos/\")\n",
    "output_folder = Path(\"output_csv\")\n",
    "output_folder.mkdir(exist_ok=True)"
   ],
   "outputs": [],
   "execution_count": 21
  },
  {
   "cell_type": "code",
   "id": "0b52e342",
   "metadata": {
    "ExecuteTime": {
     "end_time": "2025-06-23T02:19:24.173784Z",
     "start_time": "2025-06-23T02:19:24.153925Z"
    }
   },
   "source": [
    "MAX_FRAMES = None  # No max limit for variable-length\n",
    "SEQUENCE_COUNT = 0"
   ],
   "outputs": [],
   "execution_count": 22
  },
  {
   "cell_type": "code",
   "id": "e6c05584",
   "metadata": {
    "ExecuteTime": {
     "end_time": "2025-06-23T02:20:05.988933Z",
     "start_time": "2025-06-23T02:19:25.915263Z"
    }
   },
   "source": [
    "for label_folder in input_folder.iterdir():\n",
    "    if not label_folder.is_dir():\n",
    "        continue\n",
    "    label = label_folder.name\n",
    "\n",
    "    for video_path in label_folder.glob(\"*.mp4\"):\n",
    "        video_file = opencv.VideoCapture(str(video_path))\n",
    "        sequence = []\n",
    "\n",
    "        while True:\n",
    "            available, frame = video_file.read()\n",
    "\n",
    "            if not available:\n",
    "                break\n",
    "\n",
    "            frame_data, output_frame = extract_landmarks_from_frame(frame, video_path)\n",
    "            if frame_data:\n",
    "                sequence.append(frame_data)\n",
    "\n",
    "                opencv.imshow(\"Ekstrasi Fitur Data Skeletal Mediapipe Holistic\", output_frame)\n",
    "\n",
    "                if opencv.waitKey(10) & 0xFF == ord('q'):\n",
    "                    break\n",
    "            \n",
    "        video_file.release()\n",
    "        opencv.destroyAllWindows()\n",
    "\n",
    "        if not sequence:\n",
    "            print(f\"[INFO] Skipped (no pose): {video_path.name}\")\n",
    "            continue\n",
    "\n",
    "        data_frame = pandas.DataFrame(sequence)\n",
    "        output_file = output_folder / f\"{label}_{SEQUENCE_COUNT:03}.csv\"\n",
    "        data_frame.to_csv(output_file, index=False, header=False)\n",
    "        SEQUENCE_COUNT += 1\n",
    "        print(f\"[SUCCESS] Saved variable-length sequence: {output_file}\")\n",
    "\n",
    "print(f\"\\n[INFO] Total sequences saved: {SEQUENCE_COUNT}\")"
   ],
   "outputs": [
    {
     "name": "stdout",
     "output_type": "stream",
     "text": [
      "[SUCCESS] Saved variable-length sequence: output_csv\\an_000.csv\n",
      "[SUCCESS] Saved variable-length sequence: output_csv\\ber_001.csv\n",
      "[SUCCESS] Saved variable-length sequence: output_csv\\di_002.csv\n",
      "[SUCCESS] Saved variable-length sequence: output_csv\\i_003.csv\n",
      "[SUCCESS] Saved variable-length sequence: output_csv\\kah_004.csv\n",
      "[SUCCESS] Saved variable-length sequence: output_csv\\kan_005.csv\n",
      "[SUCCESS] Saved variable-length sequence: output_csv\\ke_006.csv\n",
      "[SUCCESS] Saved variable-length sequence: output_csv\\lah_007.csv\n",
      "[SUCCESS] Saved variable-length sequence: output_csv\\man_008.csv\n",
      "[SUCCESS] Saved variable-length sequence: output_csv\\me_009.csv\n",
      "[SUCCESS] Saved variable-length sequence: output_csv\\nya_010.csv\n",
      "[SUCCESS] Saved variable-length sequence: output_csv\\pe_011.csv\n",
      "[SUCCESS] Saved variable-length sequence: output_csv\\pun_012.csv\n",
      "[SUCCESS] Saved variable-length sequence: output_csv\\se_013.csv\n",
      "[SUCCESS] Saved variable-length sequence: output_csv\\ter_014.csv\n",
      "[SUCCESS] Saved variable-length sequence: output_csv\\ti_015.csv\n",
      "[SUCCESS] Saved variable-length sequence: output_csv\\wan_016.csv\n",
      "[SUCCESS] Saved variable-length sequence: output_csv\\wati_017.csv\n",
      "\n",
      "[INFO] Total sequences saved: 18\n"
     ]
    }
   ],
   "execution_count": 23
  },
  {
   "metadata": {},
   "cell_type": "markdown",
   "source": "# Program Sepenuhnya (_Full Code_)",
   "id": "57c4bfcfba01c24a"
  },
  {
   "metadata": {
    "ExecuteTime": {
     "end_time": "2025-06-24T02:46:39.163061Z",
     "start_time": "2025-06-24T02:46:36.854472Z"
    }
   },
   "cell_type": "code",
   "source": [
    "import cv2 as opencv\n",
    "import numpy\n",
    "import pandas\n",
    "import os\n",
    "from pathlib import Path\n",
    "import mediapipe\n",
    "from mediapipe.framework.formats import landmark_pb2\n",
    "\n",
    "mediapipe_holistic = mediapipe.solutions.holistic\n",
    "holistic = mediapipe_holistic.Holistic(\n",
    "    static_image_mode=False,\n",
    "    model_complexity=1,\n",
    "    smooth_landmarks=True,\n",
    "    enable_segmentation=False,\n",
    "    refine_face_landmarks=False,\n",
    "    min_detection_confidence=0.25,\n",
    "    min_tracking_confidence=0.25,\n",
    ")\n",
    "\n",
    "mediapipe_holistic = mediapipe.solutions.holistic\n",
    "mediapipe_drawing = mediapipe.solutions.drawing_utils\n",
    "mediapipe_drawing_styles = mediapipe.solutions.drawing_styles\n",
    "\n",
    "\n",
    "def euclidean_distance(pointA, pointB):\n",
    "    return ((pointA.x - pointB.x) ** 2 + (pointA.y - pointB.y) ** 2) ** 0.5\n",
    "\n",
    "\n",
    "def normalize_landmarks(landmarks, shoulder_center_point, shoulder_width):\n",
    "    if not landmarks or shoulder_width == 0:\n",
    "        return [(0, 0)] * len(landmarks)\n",
    "    return [\n",
    "        ((landmark_point.x - shoulder_center_point[0]) / shoulder_width,\n",
    "         (landmark_point.y - shoulder_center_point[1]) / shoulder_width\n",
    "        ) for landmark_point in landmarks\n",
    "    ]\n",
    "\n",
    "\n",
    "def extract_landmarks_from_frame(frame, video_path):\n",
    "    frame_rgb = opencv.cvtColor(frame, opencv.COLOR_BGR2RGB)\n",
    "    frame_rgb.flags.writeable = False\n",
    "    detection_results = holistic.process(frame_rgb)\n",
    "    frame_rgb.flags.writeable = True\n",
    "\n",
    "    output_frame = opencv.cvtColor(frame_rgb, opencv.COLOR_RGB2BGR)\n",
    "\n",
    "    if not detection_results.pose_landmarks:\n",
    "        return None\n",
    "\n",
    "    pose_landmark_1_to_16 = detection_results.pose_landmarks.landmark[:17]\n",
    "    left_shoulder = detection_results.pose_landmarks.landmark[mediapipe_holistic.PoseLandmark.LEFT_SHOULDER]\n",
    "    right_shoulder = detection_results.pose_landmarks.landmark[mediapipe_holistic.PoseLandmark.RIGHT_SHOULDER]\n",
    "\n",
    "    shoulder_center_point = (\n",
    "        (left_shoulder.x + right_shoulder.x) / 2,\n",
    "        (left_shoulder.y + right_shoulder.y) / 2\n",
    "    )\n",
    "\n",
    "    shoulder_width = euclidean_distance(left_shoulder, right_shoulder)\n",
    "\n",
    "    normalized_custom_pose = normalize_landmarks(\n",
    "        pose_landmark_1_to_16,\n",
    "        shoulder_center_point,\n",
    "        shoulder_width\n",
    "    )\n",
    "\n",
    "    normalized_right_hand = normalize_landmarks(\n",
    "        detection_results.right_hand_landmarks.landmark,\n",
    "        shoulder_center_point,\n",
    "        shoulder_width\n",
    "    ) if detection_results.right_hand_landmarks else [(0, 0)] * 21\n",
    "\n",
    "    normalized_left_hand = normalize_landmarks(\n",
    "        detection_results.left_hand_landmarks.landmark,\n",
    "        shoulder_center_point,\n",
    "        shoulder_width\n",
    "    ) if detection_results.left_hand_landmarks else [(0, 0)] * 21\n",
    "\n",
    "    extracted_frame_landmarks = []\n",
    "\n",
    "    for landmark_x, landmark_y in normalized_custom_pose + normalized_right_hand + normalized_left_hand:\n",
    "        extracted_frame_landmarks.extend([landmark_x, landmark_y])\n",
    "\n",
    "    filtered_pose = landmark_pb2.NormalizedLandmarkList(\n",
    "        landmark = [detection_results.pose_landmarks.landmark[i] for i in range(17)]\n",
    "    )\n",
    "\n",
    "    filtered_connections = [\n",
    "        connection for connection in mediapipe_holistic.POSE_CONNECTIONS if connection[0] < 17 and connection[1] < 17\n",
    "    ]\n",
    "\n",
    "    # === Draw landmarks directly on the frame to return ===\n",
    "    mediapipe_drawing.draw_landmarks(\n",
    "        output_frame,\n",
    "        filtered_pose,\n",
    "        filtered_connections,\n",
    "        landmark_drawing_spec=mediapipe_drawing_styles.get_default_pose_landmarks_style()\n",
    "    )\n",
    "    if detection_results.right_hand_landmarks:\n",
    "        mediapipe_drawing.draw_landmarks(\n",
    "            output_frame,\n",
    "            detection_results.right_hand_landmarks,\n",
    "            mediapipe_holistic.HAND_CONNECTIONS,\n",
    "            landmark_drawing_spec=mediapipe_drawing_styles.get_default_hand_landmarks_style()\n",
    "        )\n",
    "    if detection_results.left_hand_landmarks:\n",
    "        mediapipe_drawing.draw_landmarks(\n",
    "            output_frame,\n",
    "            detection_results.left_hand_landmarks,\n",
    "            mediapipe_holistic.HAND_CONNECTIONS,\n",
    "            landmark_drawing_spec=mediapipe_drawing_styles.get_default_hand_landmarks_style()\n",
    "        )\n",
    "\n",
    "    opencv.putText(\n",
    "        output_frame,\n",
    "        f'Name : {video_path}',\n",
    "        (10, 30),\n",
    "        opencv.FONT_HERSHEY_SIMPLEX,\n",
    "        0.75,\n",
    "        (255,255,255),\n",
    "        2,\n",
    "        opencv.LINE_AA,\n",
    "    )\n",
    "\n",
    "    return extracted_frame_landmarks, output_frame\n",
    "\n",
    "\n",
    "input_folder = Path(\"input_videos/\")\n",
    "output_folder = Path(\"output_csv\")\n",
    "output_folder.mkdir(exist_ok=True)\n",
    "\n",
    "MAX_FRAMES = None  # No max limit for variable-length\n",
    "SEQUENCE_COUNT = 0\n",
    "\n",
    "for label_folder in input_folder.iterdir():\n",
    "    if not label_folder.is_dir():\n",
    "        continue\n",
    "    label = label_folder.name\n",
    "\n",
    "    for video_path in label_folder.glob(\"*.mp4\"):\n",
    "        video_file = opencv.VideoCapture(str(video_path))\n",
    "        sequence = []\n",
    "\n",
    "        while True:\n",
    "            available, frame = video_file.read()\n",
    "\n",
    "            if not available:\n",
    "                break\n",
    "\n",
    "            frame_data, output_frame = extract_landmarks_from_frame(frame, video_path)\n",
    "            if frame_data:\n",
    "                sequence.append(frame_data)\n",
    "\n",
    "                opencv.imshow(\"Ekstrasi Fitur Data Skeletal Mediapipe Holistic\", output_frame)\n",
    "\n",
    "                if opencv.waitKey(10) & 0xFF == ord('q'):\n",
    "                    break\n",
    "\n",
    "        video_file.release()\n",
    "        opencv.destroyAllWindows()\n",
    "\n",
    "        if not sequence:\n",
    "            print(f\"[INFO] Skipped (no pose): {video_path.name}\")\n",
    "            continue\n",
    "\n",
    "        data_frame = pandas.DataFrame(sequence)\n",
    "        output_file = output_folder / f\"{label}_{SEQUENCE_COUNT:03}.csv\"\n",
    "        data_frame.to_csv(output_file, index=False, header=False)\n",
    "        SEQUENCE_COUNT += 1\n",
    "        print(f\"[SUCCESS] Saved variable-length sequence: {output_file}\")\n",
    "\n",
    "print(f\"\\n[INFO] Total sequences saved: {SEQUENCE_COUNT}\")"
   ],
   "id": "d2048bcd1d54cb7c",
   "outputs": [],
   "execution_count": 1
  }
 ],
 "metadata": {
  "kernelspec": {
   "display_name": "SIBIFullBody",
   "language": "python",
   "name": "python3"
  },
  "language_info": {
   "codemirror_mode": {
    "name": "ipython",
    "version": 3
   },
   "file_extension": ".py",
   "mimetype": "text/x-python",
   "name": "python",
   "nbconvert_exporter": "python",
   "pygments_lexer": "ipython3",
   "version": "3.9.23"
  }
 },
 "nbformat": 4,
 "nbformat_minor": 5
}
