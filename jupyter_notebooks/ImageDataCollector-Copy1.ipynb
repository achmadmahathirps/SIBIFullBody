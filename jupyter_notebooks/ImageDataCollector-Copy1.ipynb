{
 "cells": [
  {
   "cell_type": "markdown",
   "id": "0428ef30-db60-4f34-9d14-817e56baffdd",
   "metadata": {},
   "source": [
    "# **Program Untuk Pengambilan Data Citra/Gambar**"
   ]
  },
  {
   "cell_type": "markdown",
   "id": "93ac92fd-0ace-4057-abab-f215ecc49d71",
   "metadata": {},
   "source": [
    "Program berbasis jupyter ini dibuat untuk menjalankan proses ekstraksi fitur data skeletal numerik dari Mediapipe yang diperoleh dari dataset citra/gambar."
   ]
  },
  {
   "cell_type": "markdown",
   "id": "ad124d94-ae7b-486a-a152-aeae04963cc2",
   "metadata": {},
   "source": [
    "---"
   ]
  },
  {
   "cell_type": "code",
   "execution_count": null,
   "id": "1272a568-7715-4195-8e5e-835e54f30a71",
   "metadata": {},
   "outputs": [],
   "source": []
  }
 ],
 "metadata": {
  "kernelspec": {
   "display_name": "Python 3 (ipykernel)",
   "language": "python",
   "name": "python3"
  },
  "language_info": {
   "codemirror_mode": {
    "name": "ipython",
    "version": 3
   },
   "file_extension": ".py",
   "mimetype": "text/x-python",
   "name": "python",
   "nbconvert_exporter": "python",
   "pygments_lexer": "ipython3",
   "version": "3.9.23"
  }
 },
 "nbformat": 4,
 "nbformat_minor": 5
}
